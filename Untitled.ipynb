{
 "cells": [
  {
   "cell_type": "code",
   "execution_count": 12,
   "id": "3a930ddb",
   "metadata": {},
   "outputs": [],
   "source": [
    "def listDivide(numbers, divide = 2):\n",
    "    a = 0\n",
    "    for v in numbers:           ## if the value isn't divisible by divide, increase by 1\n",
    "        if v % divide == 0:\n",
    "            a = a + 1\n",
    "    return a\n",
    "\n",
    "class ListDivideException:\n",
    "    def testListDivide():\n",
    "        if not listDivide([1,2,3,4,5]) == 2:\n",
    "            raise ListDivideException\n",
    "        if not listDivide([2,4,6,8,10]) == 5:\n",
    "            raise ListDivideException\n",
    "        if not listDivide([30, 54, 63,98, 100], divide=10) == 2:\n",
    "            raise ListDivideException\n",
    "        if not listDivide([]) == 0:\n",
    "            raise ListDivideException\n",
    "        if not listDivide([1,2,3,4,5], 1) == 5:\n",
    "            raise ListDivideException\n",
    "  \n"
   ]
  },
  {
   "cell_type": "code",
   "execution_count": null,
   "id": "cd98544a",
   "metadata": {},
   "outputs": [],
   "source": []
  },
  {
   "cell_type": "code",
   "execution_count": null,
   "id": "c55c62c0",
   "metadata": {},
   "outputs": [],
   "source": []
  }
 ],
 "metadata": {
  "kernelspec": {
   "display_name": "Python 3",
   "language": "python",
   "name": "python3"
  },
  "language_info": {
   "codemirror_mode": {
    "name": "ipython",
    "version": 3
   },
   "file_extension": ".py",
   "mimetype": "text/x-python",
   "name": "python",
   "nbconvert_exporter": "python",
   "pygments_lexer": "ipython3",
   "version": "3.8.10"
  }
 },
 "nbformat": 4,
 "nbformat_minor": 5
}
